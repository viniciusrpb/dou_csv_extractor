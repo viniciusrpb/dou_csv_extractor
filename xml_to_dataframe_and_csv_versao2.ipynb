{
  "nbformat": 4,
  "nbformat_minor": 0,
  "metadata": {
    "colab": {
      "name": "xml_to_dataframe_and_csv_versao2.ipynb",
      "provenance": [],
      "authorship_tag": "ABX9TyPG/Src8X/7iKaNtBhwpZPy",
      "include_colab_link": true
    },
    "kernelspec": {
      "name": "python3",
      "display_name": "Python 3"
    },
    "language_info": {
      "name": "python"
    }
  },
  "cells": [
    {
      "cell_type": "markdown",
      "metadata": {
        "id": "view-in-github",
        "colab_type": "text"
      },
      "source": [
        "<a href=\"https://colab.research.google.com/github/viniciusrpb/dou_csv_extractor/blob/main/xml_to_dataframe_and_csv_versao2.ipynb\" target=\"_parent\"><img src=\"https://colab.research.google.com/assets/colab-badge.svg\" alt=\"Open In Colab\"/></a>"
      ]
    },
    {
      "cell_type": "code",
      "metadata": {
        "colab": {
          "base_uri": "https://localhost:8080/"
        },
        "id": "KjsOK-eDr5I-",
        "outputId": "efd7f05d-59e8-4338-d6c0-0c5b9cbfb6e3"
      },
      "source": [
        "from google.colab import drive\n",
        "drive.mount(\"/content/drive\",force_remount=True)"
      ],
      "execution_count": 17,
      "outputs": [
        {
          "output_type": "stream",
          "text": [
            "Mounted at /content/drive\n"
          ],
          "name": "stdout"
        }
      ]
    },
    {
      "cell_type": "code",
      "metadata": {
        "id": "DhY3YLerr9EV"
      },
      "source": [
        "!cp -r \"/content/drive/My Drive/samples\" \"samples\""
      ],
      "execution_count": 18,
      "outputs": []
    },
    {
      "cell_type": "code",
      "metadata": {
        "id": "8A-00k6FeXyW"
      },
      "source": [
        "import xml.etree.ElementTree as ET\n",
        "import os\n",
        "import pandas as pd"
      ],
      "execution_count": 19,
      "outputs": []
    },
    {
      "cell_type": "markdown",
      "metadata": {
        "id": "fReSgnNwhWAm"
      },
      "source": [
        "Nessa versão, colocamos diretamente os atributos do XML que queremos obter"
      ]
    },
    {
      "cell_type": "code",
      "metadata": {
        "id": "tM99fzPoefru"
      },
      "source": [
        "xmls_path = \"samples/\"\n",
        "\n",
        "data_attributes = ['id','name', 'idOficio','pubName','artType','pubDate','artCategory','artSize','artNotes','numberPage','pdfPage','editionNumber','identifica','texto_publicacao']\n",
        "\n",
        "publicacoes_xmls = [publicacao_xml for publicacao_xml in os.listdir(xmls_path) if os.path.isfile(os.path.join(xmls_path,publicacao_xml))]\n",
        "\n",
        "lista = []"
      ],
      "execution_count": 20,
      "outputs": []
    },
    {
      "cell_type": "markdown",
      "metadata": {
        "id": "eGANx5QxhcmX"
      },
      "source": [
        "Criamos uma lista de listas, em que cada lista é uma instância relacionada com uma publicação que está em um arquivo XML"
      ]
    },
    {
      "cell_type": "code",
      "metadata": {
        "id": "ZB2DsBgaed6O"
      },
      "source": [
        "for publicacao_xml in publicacoes_xmls:\n",
        "        \n",
        "    instancia_dou = []\n",
        "        \n",
        "    xml_filename = xmls_path+publicacao_xml\n",
        "            \n",
        "    mytree = ET.parse(xml_filename)\n",
        "    myroot = mytree.getroot()\n",
        "        \n",
        "    for child in myroot:\n",
        "        tag_xml = child.tag\n",
        "        dicionario = child.attrib\n",
        "\n",
        "    for attribute in dicionario:\n",
        "            \n",
        "        if attribute != 'artClass' and attribute != 'highlightType' and attribute != 'highlightPriority' and attribute != 'highlight' and attribute != 'highlightimage' and attribute != 'highlightimagename' and attribute != 'artNotes':\n",
        "            instancia_dou.append(dicionario[attribute])\n",
        "                #print(attribute+\" \"+\" \"+dicionario[attribute])\n",
        "\n",
        "    for x in myroot[0][0]:\n",
        "        if x.tag == \"Identifica\":\n",
        "            instancia_dou.append(x.text)\n",
        "        elif x.tag == \"Texto\":\n",
        "            instancia_dou.append(x.text)\n",
        "\n",
        "    lista.append(instancia_dou)"
      ],
      "execution_count": 21,
      "outputs": []
    },
    {
      "cell_type": "markdown",
      "metadata": {
        "id": "YwkkblEuhsnN"
      },
      "source": [
        "Gera um DataFrame:"
      ]
    },
    {
      "cell_type": "code",
      "metadata": {
        "colab": {
          "base_uri": "https://localhost:8080/",
          "height": 1000
        },
        "id": "5S8C74KthBwB",
        "outputId": "57e18c5b-48c4-4cc0-ed64-6bd0e467c12a"
      },
      "source": [
        "df = pd.DataFrame(lista,columns = data_attributes)\n",
        "\n",
        "df"
      ],
      "execution_count": 22,
      "outputs": [
        {
          "output_type": "execute_result",
          "data": {
            "text/html": [
              "<div>\n",
              "<style scoped>\n",
              "    .dataframe tbody tr th:only-of-type {\n",
              "        vertical-align: middle;\n",
              "    }\n",
              "\n",
              "    .dataframe tbody tr th {\n",
              "        vertical-align: top;\n",
              "    }\n",
              "\n",
              "    .dataframe thead th {\n",
              "        text-align: right;\n",
              "    }\n",
              "</style>\n",
              "<table border=\"1\" class=\"dataframe\">\n",
              "  <thead>\n",
              "    <tr style=\"text-align: right;\">\n",
              "      <th></th>\n",
              "      <th>id</th>\n",
              "      <th>name</th>\n",
              "      <th>idOficio</th>\n",
              "      <th>pubName</th>\n",
              "      <th>artType</th>\n",
              "      <th>pubDate</th>\n",
              "      <th>artCategory</th>\n",
              "      <th>artSize</th>\n",
              "      <th>artNotes</th>\n",
              "      <th>numberPage</th>\n",
              "      <th>pdfPage</th>\n",
              "      <th>editionNumber</th>\n",
              "      <th>identifica</th>\n",
              "      <th>texto_publicacao</th>\n",
              "    </tr>\n",
              "  </thead>\n",
              "  <tbody>\n",
              "    <tr>\n",
              "      <th>0</th>\n",
              "      <td>8724940</td>\n",
              "      <td>alvara2461</td>\n",
              "      <td>5275847</td>\n",
              "      <td>DO1</td>\n",
              "      <td>Alvará</td>\n",
              "      <td>07/05/2019</td>\n",
              "      <td>Ministério da Justiça e Segurança Pública/Polí...</td>\n",
              "      <td>12</td>\n",
              "      <td>25</td>\n",
              "      <td>http://pesquisa.in.gov.br/imprensa/jsp/visuali...</td>\n",
              "      <td>86</td>\n",
              "      <td>11633595</td>\n",
              "      <td>ALVARÁ Nº 2.461, DE 23 DE ABRIL DE 2019</td>\n",
              "      <td>&lt;p&gt;&lt;/p&gt;&lt;p class=\"identifica\"&gt;ALVARÁ Nº 2.461, ...</td>\n",
              "    </tr>\n",
              "    <tr>\n",
              "      <th>1</th>\n",
              "      <td>20001323</td>\n",
              "      <td>090 A 77 RCO ERIC X ALAN TRIAN</td>\n",
              "      <td>6391441</td>\n",
              "      <td>DO2</td>\n",
              "      <td>Ato</td>\n",
              "      <td>01/06/2021</td>\n",
              "      <td>Poder Judiciário/Tribunal Regional do Trabalho...</td>\n",
              "      <td>12</td>\n",
              "      <td>67</td>\n",
              "      <td>http://pesquisa.in.gov.br/imprensa/jsp/visuali...</td>\n",
              "      <td>102</td>\n",
              "      <td>13490090</td>\n",
              "      <td>ATO PR Nº 77 TRT-SP, de 22 de abril de 2021</td>\n",
              "      <td>&lt;p class=\"identifica\"&gt;ATO PR Nº 77 TRT-SP, de ...</td>\n",
              "    </tr>\n",
              "    <tr>\n",
              "      <th>2</th>\n",
              "      <td>18257294</td>\n",
              "      <td>trt9a155-2020 PRT DG 190</td>\n",
              "      <td>6148582</td>\n",
              "      <td>DO2</td>\n",
              "      <td>Portaria</td>\n",
              "      <td>01/02/2021</td>\n",
              "      <td>Poder Judiciário/Tribunal Regional do Trabalho...</td>\n",
              "      <td>12</td>\n",
              "      <td>96</td>\n",
              "      <td>http://pesquisa.in.gov.br/imprensa/jsp/visuali...</td>\n",
              "      <td>21</td>\n",
              "      <td>13134810</td>\n",
              "      <td>PORTARIA DG Nº 190, DE 4 DE DEZEMBRO DE 2020</td>\n",
              "      <td>&lt;p class=\"identifica\"&gt;PORTARIA DG Nº 190, DE 4...</td>\n",
              "    </tr>\n",
              "    <tr>\n",
              "      <th>3</th>\n",
              "      <td>20001179</td>\n",
              "      <td>7 Portaria para a imprensa_FabAo</td>\n",
              "      <td>6394864</td>\n",
              "      <td>DO2</td>\n",
              "      <td>Portaria</td>\n",
              "      <td>01/06/2021</td>\n",
              "      <td>Poder Judiciário/Tribunal Regional do Trabalho...</td>\n",
              "      <td>12</td>\n",
              "      <td>67</td>\n",
              "      <td>http://pesquisa.in.gov.br/imprensa/jsp/visuali...</td>\n",
              "      <td>102</td>\n",
              "      <td>13494637</td>\n",
              "      <td>PORTARIA GP Nº 114, DE 27 DE ABRIL DE 2021</td>\n",
              "      <td>&lt;p class=\"identifica\"&gt;PORTARIA GP Nº 114, DE 2...</td>\n",
              "    </tr>\n",
              "    <tr>\n",
              "      <th>4</th>\n",
              "      <td>8724976</td>\n",
              "      <td>alvara2355</td>\n",
              "      <td>5270413</td>\n",
              "      <td>DO1</td>\n",
              "      <td>Alvará</td>\n",
              "      <td>07/05/2019</td>\n",
              "      <td>Ministério da Justiça e Segurança Pública/Polí...</td>\n",
              "      <td>12</td>\n",
              "      <td>25</td>\n",
              "      <td>http://pesquisa.in.gov.br/imprensa/jsp/visuali...</td>\n",
              "      <td>86</td>\n",
              "      <td>11624366</td>\n",
              "      <td>ALVARÁ Nº 2.355, DE 18 DE ABRIL DE 2019</td>\n",
              "      <td>&lt;p&gt;&lt;/p&gt;&lt;p class=\"identifica\"&gt;ALVARÁ Nº 2.355, ...</td>\n",
              "    </tr>\n",
              "    <tr>\n",
              "      <th>5</th>\n",
              "      <td>18256898</td>\n",
              "      <td>trt9a160-2020 ATO 156</td>\n",
              "      <td>6157010</td>\n",
              "      <td>DO2</td>\n",
              "      <td>Ato</td>\n",
              "      <td>01/02/2021</td>\n",
              "      <td>Poder Judiciário/Tribunal Regional do Trabalho...</td>\n",
              "      <td>12</td>\n",
              "      <td>96</td>\n",
              "      <td>http://pesquisa.in.gov.br/imprensa/jsp/visuali...</td>\n",
              "      <td>21</td>\n",
              "      <td>13149640</td>\n",
              "      <td>ATO Nº 156, DE 3 DE NOVEMBRO DE 2020</td>\n",
              "      <td>&lt;p class=\"identifica\"&gt;ATO Nº 156, DE 3 DE NOVE...</td>\n",
              "    </tr>\n",
              "    <tr>\n",
              "      <th>6</th>\n",
              "      <td>20001194</td>\n",
              "      <td>trt9a67-2021 PRT DG 75</td>\n",
              "      <td>6403057</td>\n",
              "      <td>DO2</td>\n",
              "      <td>Portaria</td>\n",
              "      <td>01/06/2021</td>\n",
              "      <td>Poder Judiciário/Tribunal Regional do Trabalho...</td>\n",
              "      <td>12</td>\n",
              "      <td>68</td>\n",
              "      <td>http://pesquisa.in.gov.br/imprensa/jsp/visuali...</td>\n",
              "      <td>102</td>\n",
              "      <td>13505936</td>\n",
              "      <td>PORTARIA DG Nº 75, DE 13 DE MAIO DE 2021</td>\n",
              "      <td>&lt;p class=\"identifica\"&gt;PORTARIA DG Nº 75, DE 13...</td>\n",
              "    </tr>\n",
              "    <tr>\n",
              "      <th>7</th>\n",
              "      <td>18256886</td>\n",
              "      <td>Port. DEAFI 74 - aposenta Robson</td>\n",
              "      <td>6161300</td>\n",
              "      <td>DO2</td>\n",
              "      <td>Portaria</td>\n",
              "      <td>01/02/2021</td>\n",
              "      <td>Ministério da Economia/Superintendência de Seg...</td>\n",
              "      <td>12</td>\n",
              "      <td>28</td>\n",
              "      <td>http://pesquisa.in.gov.br/imprensa/jsp/visuali...</td>\n",
              "      <td>21</td>\n",
              "      <td>13157158</td>\n",
              "      <td>PORTARIA SUSEP/DEAFI Nº 74, DE 8 DE DEZEMBRO ...</td>\n",
              "      <td>&lt;p class=\"identifica\"&gt;PORTARIA SUSEP/DEAFI Nº ...</td>\n",
              "    </tr>\n",
              "    <tr>\n",
              "      <th>8</th>\n",
              "      <td>8724946</td>\n",
              "      <td>alvara2282</td>\n",
              "      <td>5265407</td>\n",
              "      <td>DO1</td>\n",
              "      <td>Alvará</td>\n",
              "      <td>07/05/2019</td>\n",
              "      <td>Ministério da Justiça e Segurança Pública/Polí...</td>\n",
              "      <td>12</td>\n",
              "      <td>25</td>\n",
              "      <td>http://pesquisa.in.gov.br/imprensa/jsp/visuali...</td>\n",
              "      <td>86</td>\n",
              "      <td>11615606</td>\n",
              "      <td>ALVARÁ Nº 2.282, DE 15 DE ABRIL DE 2019</td>\n",
              "      <td>&lt;p&gt;&lt;/p&gt;&lt;p class=\"identifica\"&gt;ALVARÁ Nº 2.282, ...</td>\n",
              "    </tr>\n",
              "    <tr>\n",
              "      <th>9</th>\n",
              "      <td>18256682</td>\n",
              "      <td>PORTARIA N 438</td>\n",
              "      <td>6135024</td>\n",
              "      <td>DO2</td>\n",
              "      <td>Portaria</td>\n",
              "      <td>01/02/2021</td>\n",
              "      <td>Ministério da Economia/Fundação Escola Naciona...</td>\n",
              "      <td>12</td>\n",
              "      <td>28</td>\n",
              "      <td>http://pesquisa.in.gov.br/imprensa/jsp/visuali...</td>\n",
              "      <td>21</td>\n",
              "      <td>13111599</td>\n",
              "      <td>PORTARIA Nº 438, DE 26 DE NOVEMBRO DE 2020</td>\n",
              "      <td>&lt;p class=\"identifica\"&gt;PORTARIA Nº 438, DE 26 D...</td>\n",
              "    </tr>\n",
              "    <tr>\n",
              "      <th>10</th>\n",
              "      <td>8724955</td>\n",
              "      <td>alvara2417</td>\n",
              "      <td>5273357</td>\n",
              "      <td>DO1</td>\n",
              "      <td>Alvará</td>\n",
              "      <td>07/05/2019</td>\n",
              "      <td>Ministério da Justiça e Segurança Pública/Polí...</td>\n",
              "      <td>12</td>\n",
              "      <td>25</td>\n",
              "      <td>http://pesquisa.in.gov.br/imprensa/jsp/visuali...</td>\n",
              "      <td>86</td>\n",
              "      <td>11629555</td>\n",
              "      <td>ALVARÁ Nº 2.417, DE 22 DE ABRIL DE 2019</td>\n",
              "      <td>&lt;p&gt;&lt;/p&gt;&lt;p class=\"identifica\"&gt;ALVARÁ Nº 2.417, ...</td>\n",
              "    </tr>\n",
              "    <tr>\n",
              "      <th>11</th>\n",
              "      <td>20001416</td>\n",
              "      <td>portaria AposRTF CarolinaMarques</td>\n",
              "      <td>6403965</td>\n",
              "      <td>DO2</td>\n",
              "      <td>Portaria</td>\n",
              "      <td>01/06/2021</td>\n",
              "      <td>Ministério das Relações Exteriores/Secretaria-...</td>\n",
              "      <td>12</td>\n",
              "      <td>46</td>\n",
              "      <td>http://pesquisa.in.gov.br/imprensa/jsp/visuali...</td>\n",
              "      <td>102</td>\n",
              "      <td>13507403</td>\n",
              "      <td>PORTARIA Nº 258, DE 12 DE MAIO DE 2021</td>\n",
              "      <td>&lt;p class=\"identifica\"&gt;PORTARIA Nº 258, DE 12 D...</td>\n",
              "    </tr>\n",
              "  </tbody>\n",
              "</table>\n",
              "</div>"
            ],
            "text/plain": [
              "          id  ...                                   texto_publicacao\n",
              "0    8724940  ...  <p></p><p class=\"identifica\">ALVARÁ Nº 2.461, ...\n",
              "1   20001323  ...  <p class=\"identifica\">ATO PR Nº 77 TRT-SP, de ...\n",
              "2   18257294  ...  <p class=\"identifica\">PORTARIA DG Nº 190, DE 4...\n",
              "3   20001179  ...  <p class=\"identifica\">PORTARIA GP Nº 114, DE 2...\n",
              "4    8724976  ...  <p></p><p class=\"identifica\">ALVARÁ Nº 2.355, ...\n",
              "5   18256898  ...  <p class=\"identifica\">ATO Nº 156, DE 3 DE NOVE...\n",
              "6   20001194  ...  <p class=\"identifica\">PORTARIA DG Nº 75, DE 13...\n",
              "7   18256886  ...  <p class=\"identifica\">PORTARIA SUSEP/DEAFI Nº ...\n",
              "8    8724946  ...  <p></p><p class=\"identifica\">ALVARÁ Nº 2.282, ...\n",
              "9   18256682  ...  <p class=\"identifica\">PORTARIA Nº 438, DE 26 D...\n",
              "10   8724955  ...  <p></p><p class=\"identifica\">ALVARÁ Nº 2.417, ...\n",
              "11  20001416  ...  <p class=\"identifica\">PORTARIA Nº 258, DE 12 D...\n",
              "\n",
              "[12 rows x 14 columns]"
            ]
          },
          "metadata": {
            "tags": []
          },
          "execution_count": 22
        }
      ]
    },
    {
      "cell_type": "markdown",
      "metadata": {
        "id": "oOQz7UElhE4f"
      },
      "source": [
        "Grava as publicações no DataFrame para o CSV"
      ]
    },
    {
      "cell_type": "code",
      "metadata": {
        "id": "389_Ks5whDWI"
      },
      "source": [
        "df.to_csv('corpus_dou.csv',sep=',',index=False)"
      ],
      "execution_count": null,
      "outputs": []
    }
  ]
}